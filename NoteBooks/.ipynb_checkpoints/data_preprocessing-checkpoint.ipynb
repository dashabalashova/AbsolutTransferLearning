{
 "cells": [
  {
   "cell_type": "code",
   "execution_count": 6,
   "id": "49596fbc",
   "metadata": {},
   "outputs": [],
   "source": [
    "# Mason data\n",
    "# of AgNeg: 27539\n",
    "# of AgPos: 11300\n"
   ]
  },
  {
   "cell_type": "code",
   "execution_count": 3,
   "id": "5bd7088e",
   "metadata": {},
   "outputs": [
    {
     "name": "stdout",
     "output_type": "stream",
     "text": [
      "0.2%: 13872\n",
      "0.6%: 33807\n"
     ]
    }
   ],
   "source": [
    "import pandas as pd\n",
    "\n",
    "\n",
    "df = pd.read_csv('../Data/1S78_B_Mascotte_feat.txt', sep='\\t', header=1)\n",
    "df = df[['Slide', 'Energy']].sort_values(by='Energy')\n",
    "\n",
    "print('0.2%:', int(df.shape[0]*0.2))\n",
    "print('0.6%:', int(df.shape[0]*0.2*27539/11300))\n"
   ]
  },
  {
   "cell_type": "code",
   "execution_count": 4,
   "id": "e6e3d30a",
   "metadata": {},
   "outputs": [
    {
     "name": "stderr",
     "output_type": "stream",
     "text": [
      "/var/folders/8m/wb_394bd6wg7gpzy45qbqwrm0000gn/T/ipykernel_16112/1372024857.py:2: SettingWithCopyWarning: \n",
      "A value is trying to be set on a copy of a slice from a DataFrame.\n",
      "Try using .loc[row_indexer,col_indexer] = value instead\n",
      "\n",
      "See the caveats in the documentation: https://pandas.pydata.org/pandas-docs/stable/user_guide/indexing.html#returning-a-view-versus-a-copy\n",
      "  df1['AgClass'] = 1\n",
      "/var/folders/8m/wb_394bd6wg7gpzy45qbqwrm0000gn/T/ipykernel_16112/1372024857.py:5: SettingWithCopyWarning: \n",
      "A value is trying to be set on a copy of a slice from a DataFrame.\n",
      "Try using .loc[row_indexer,col_indexer] = value instead\n",
      "\n",
      "See the caveats in the documentation: https://pandas.pydata.org/pandas-docs/stable/user_guide/indexing.html#returning-a-view-versus-a-copy\n",
      "  df0['AgClass'] = 0\n"
     ]
    }
   ],
   "source": [
    "df1 = df.head(int(df.shape[0]*0.2))\n",
    "df1['AgClass'] = 1\n",
    "\n",
    "df0 = df.tail(int(df.shape[0]*0.2*27539/11300))\n",
    "df0['AgClass'] = 0\n"
   ]
  },
  {
   "cell_type": "code",
   "execution_count": 5,
   "id": "acd347c6",
   "metadata": {},
   "outputs": [
    {
     "name": "stderr",
     "output_type": "stream",
     "text": [
      "/var/folders/8m/wb_394bd6wg7gpzy45qbqwrm0000gn/T/ipykernel_16112/3196285682.py:1: SettingWithCopyWarning: \n",
      "A value is trying to be set on a copy of a slice from a DataFrame.\n",
      "Try using .loc[row_indexer,col_indexer] = value instead\n",
      "\n",
      "See the caveats in the documentation: https://pandas.pydata.org/pandas-docs/stable/user_guide/indexing.html#returning-a-view-versus-a-copy\n",
      "  df0['AASeq'] = df0.apply(lambda x: x.Slide[:10], axis=1)\n",
      "/var/folders/8m/wb_394bd6wg7gpzy45qbqwrm0000gn/T/ipykernel_16112/3196285682.py:2: SettingWithCopyWarning: \n",
      "A value is trying to be set on a copy of a slice from a DataFrame.\n",
      "Try using .loc[row_indexer,col_indexer] = value instead\n",
      "\n",
      "See the caveats in the documentation: https://pandas.pydata.org/pandas-docs/stable/user_guide/indexing.html#returning-a-view-versus-a-copy\n",
      "  df1['AASeq'] = df1.apply(lambda x: x.Slide[:10], axis=1)\n"
     ]
    }
   ],
   "source": [
    "df0['AASeq'] = df0.apply(lambda x: x.Slide[:10], axis=1)\n",
    "df1['AASeq'] = df1.apply(lambda x: x.Slide[:10], axis=1)\n",
    "\n",
    "df2 = df0[['AASeq', 'AgClass']].append(df1[['AASeq', 'AgClass']]).sample(frac=1, random_state=0).reset_index(drop=True)\n",
    "df2.to_csv('../Data/data_Absolut3.tsv', sep='\\t', header=True)\n"
   ]
  }
 ],
 "metadata": {
  "kernelspec": {
   "display_name": "Python 3 (ipykernel)",
   "language": "python",
   "name": "python3"
  },
  "language_info": {
   "codemirror_mode": {
    "name": "ipython",
    "version": 3
   },
   "file_extension": ".py",
   "mimetype": "text/x-python",
   "name": "python",
   "nbconvert_exporter": "python",
   "pygments_lexer": "ipython3",
   "version": "3.9.7"
  }
 },
 "nbformat": 4,
 "nbformat_minor": 5
}
